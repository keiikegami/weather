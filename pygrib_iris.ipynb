{
 "cells": [
  {
   "cell_type": "code",
   "execution_count": 1,
   "metadata": {
    "collapsed": true
   },
   "outputs": [],
   "source": [
    "import iris\n",
    "import pygrib"
   ]
  },
  {
   "cell_type": "markdown",
   "metadata": {},
   "source": [
    "pygribでGRIBを読み込む"
   ]
  },
  {
   "cell_type": "code",
   "execution_count": 2,
   "metadata": {
    "collapsed": true
   },
   "outputs": [],
   "source": [
    "grbs = pygrib.open('/Users/k-ikegami/Desktop/GRIB/weather/Z__C_RJTD_20170120090000_MSM_GPV_Rjp_L-pall_FH00-15_grib2.bin')"
   ]
  },
  {
   "cell_type": "markdown",
   "metadata": {},
   "source": [
    "iris cubeに必要な要素をリストアップ\n",
    "\n",
    "- standard name (like \"air temperature\")\n",
    "- data array (numpy)\n",
    "- coordinate dimension 0\n",
    "- coordinate dimension 1\n",
    "- coordinate dimension 2\n",
    "\n",
    "additionally \n",
    "- a data array of length 1 representing the time\n",
    "- a long name of place name and no unit\n",
    "- an auxiliary coordinate “factory”, which can derive its own mapping\n",
    "\n",
    "iris.cube.Cube, iris.cube.CubeMetadata, iris.coords.DimCoord,  iris.coords.Coordあたりを使う"
   ]
  },
  {
   "cell_type": "code",
   "execution_count": 3,
   "metadata": {},
   "outputs": [
    {
     "name": "stdout",
     "output_type": "stream",
     "text": [
      "1:Geopotential Height:gpm (instant):regular_ll:isobaricInhPa:level 100000.0 Pa:fcst time 0 hrs:from 201701200900\n"
     ]
    }
   ],
   "source": [
    "# 特定の物理量を取ってくる\n",
    "grb = grbs.select(forecastTime=0)[0]\n",
    "print(grb)"
   ]
  },
  {
   "cell_type": "code",
   "execution_count": 4,
   "metadata": {
    "collapsed": true
   },
   "outputs": [],
   "source": [
    "# そのlon, latを取ってくる\n",
    "# pygrbでは緯度経度がグリッドに対応した形、つまりそれぞれが二次元配列で入っているので、irisに使うための要素のみを　取り出します\n",
    "lats, lons = grb.latlons()\n",
    "lat = lats[:, 0]\n",
    "lon = lons[0, :]"
   ]
  },
  {
   "cell_type": "code",
   "execution_count": 5,
   "metadata": {
    "collapsed": true
   },
   "outputs": [],
   "source": [
    "# grib dataに入っている気象データ\n",
    "values = grb.values"
   ]
  },
  {
   "cell_type": "code",
   "execution_count": 14,
   "metadata": {},
   "outputs": [],
   "source": [
    "# cubeにする\n",
    "# time dimension無しの２次元データ\n",
    "from iris.coords import DimCoord\n",
    "from iris.cube import Cube\n",
    "import numpy as np\n",
    "\n",
    "latitude = DimCoord(lat,standard_name='latitude',units='degrees')\n",
    "longitude = DimCoord(lon,standard_name='longitude',units='degrees')"
   ]
  },
  {
   "cell_type": "code",
   "execution_count": 20,
   "metadata": {},
   "outputs": [],
   "source": [
    "cube = Cube(values,dim_coords_and_dims=[(latitude,0),(longitude,1)])"
   ]
  },
  {
   "cell_type": "code",
   "execution_count": 8,
   "metadata": {},
   "outputs": [
    {
     "name": "stdout",
     "output_type": "stream",
     "text": [
      "Geopotential Height\n",
      "gpm\n"
     ]
    }
   ],
   "source": [
    "print(grb.name)\n",
    "print(grb.units)"
   ]
  },
  {
   "cell_type": "code",
   "execution_count": 9,
   "metadata": {},
   "outputs": [
    {
     "data": {
      "text/plain": [
       "str"
      ]
     },
     "execution_count": 9,
     "metadata": {},
     "output_type": "execute_result"
    }
   ],
   "source": [
    "type(grb.units)"
   ]
  },
  {
   "cell_type": "code",
   "execution_count": 10,
   "metadata": {},
   "outputs": [
    {
     "ename": "SyntaxError",
     "evalue": "invalid character in identifier (<ipython-input-10-32c55af34e47>, line 11)",
     "output_type": "error",
     "traceback": [
      "\u001b[0;36m  File \u001b[0;32m\"<ipython-input-10-32c55af34e47>\"\u001b[0;36m, line \u001b[0;32m11\u001b[0m\n\u001b[0;31m    cube = Cube(values,　standard_name = name, units = unit, dim_coords_and_dims=[(latitude, 0),(longitude, 1)])\u001b[0m\n\u001b[0m                       　            ^\u001b[0m\n\u001b[0;31mSyntaxError\u001b[0m\u001b[0;31m:\u001b[0m invalid character in identifier\n"
     ]
    }
   ],
   "source": [
    "# name,unitやらをpygribから取ってこれるか？\n",
    "\n",
    "# name = stndard name\n",
    "name = grb.name\n",
    "# unit\n",
    "unit = grb.units\n",
    "\n",
    "# cubeに追加\n",
    "latitude = DimCoord(lat,standard_name='latitude',units='degrees')\n",
    "longitude = DimCoord(lon,standard_name='longitude',units='degrees')\n",
    "cube = Cube(values,　standard_name = name, units = unit, dim_coords_and_dims=[(latitude, 0),(longitude, 1)])\n",
    "print(cube)"
   ]
  },
  {
   "cell_type": "code",
   "execution_count": 21,
   "metadata": {
    "collapsed": true
   },
   "outputs": [],
   "source": [
    "# time dimensionとか高さとか取り込んでみる\n",
    "# まだやれてない"
   ]
  },
  {
   "cell_type": "markdown",
   "metadata": {},
   "source": [
    "irisのconstraint objectはここで定義\n",
    "\n",
    "http://scitools.org.uk/iris/docs/latest/iris/iris.html#iris.Constraint"
   ]
  },
  {
   "cell_type": "code",
   "execution_count": 28,
   "metadata": {},
   "outputs": [
    {
     "name": "stdout",
     "output_type": "stream",
     "text": [
      "unknown / (unknown)                 (latitude: 177; longitude: 79)\n",
      "     Dimension coordinates:\n",
      "          latitude                           x               -\n",
      "          longitude                          -               x\n"
     ]
    }
   ],
   "source": [
    "# 分割してみましょう\n",
    "# 20 < lat < 40, 130 < lon < 140 \n",
    "slicecube = cube.extract(iris.Constraint(coord_values={'latitude':lambda cell: 20 < cell < 40, 'longitude':lambda cell: 130 < cell < 140},))\n",
    "print(slicecube)"
   ]
  },
  {
   "cell_type": "markdown",
   "metadata": {},
   "source": [
    "ということで数値の切り出しはどうにかなる。（他のcoordinateは必要に応じて対応する。）\n",
    "\n",
    "なので、grib dataでの書き出しもやっておこう。→pygribにそもそもそんな機能はついてない。\n",
    "\n",
    "irisで他のフォーマットならなんとかなる。"
   ]
  },
  {
   "cell_type": "code",
   "execution_count": 34,
   "metadata": {},
   "outputs": [
    {
     "name": "stderr",
     "output_type": "stream",
     "text": [
      "/Users/k-ikegami/anaconda/lib/python3.5/site-packages/iris/fileformats/netcdf.py:2281: IrisDeprecation: NetCDF default saving behaviour currently assigns the outermost dimensions to unlimited. This behaviour is to be deprecated, in favour of no automatic assignment. To switch to the new behaviour, set iris.FUTURE.netcdf_no_unlimited to True.\n",
      "  warn_deprecated(msg)\n"
     ]
    }
   ],
   "source": [
    "iris.save(slicecube, '/Users/k-ikegami/Desktop/GRIB/weather/slice.nc')"
   ]
  },
  {
   "cell_type": "code",
   "execution_count": 35,
   "metadata": {},
   "outputs": [
    {
     "name": "stdout",
     "output_type": "stream",
     "text": [
      "0: unknown / (1)                       (latitude: 177; longitude: 79)\n"
     ]
    },
    {
     "name": "stderr",
     "output_type": "stream",
     "text": [
      "/Users/k-ikegami/anaconda/lib/python3.5/site-packages/iris/fileformats/cf.py:1143: IrisDeprecation: NetCDF default loading behaviour currently does not expose variables which define reference surfaces for dimensionless vertical coordinates as independent Cubes. This behaviour is deprecated in favour of automatic promotion to Cubes. To switch to the new behaviour, set iris.FUTURE.netcdf_promote to True.\n",
      "  warn_deprecated(msg)\n"
     ]
    }
   ],
   "source": [
    "cubes = iris.load(\"slice.nc\")\n",
    "print(cubes)"
   ]
  },
  {
   "cell_type": "code",
   "execution_count": 41,
   "metadata": {},
   "outputs": [
    {
     "data": {
      "text/plain": [
       "<iris 'Cube' of unknown / (1) (scalar cube)>"
      ]
     },
     "execution_count": 41,
     "metadata": {},
     "output_type": "execute_result"
    }
   ],
   "source": [
    "cubes[0][0,2]"
   ]
  },
  {
   "cell_type": "markdown",
   "metadata": {},
   "source": [
    "こっから下はirisの動作確認"
   ]
  },
  {
   "cell_type": "code",
   "execution_count": 13,
   "metadata": {},
   "outputs": [
    {
     "name": "stderr",
     "output_type": "stream",
     "text": [
      "/Users/k-ikegami/anaconda/lib/python3.5/site-packages/iris/fileformats/cf.py:1143: IrisDeprecation: NetCDF default loading behaviour currently does not expose variables which define reference surfaces for dimensionless vertical coordinates as independent Cubes. This behaviour is deprecated in favour of automatic promotion to Cubes. To switch to the new behaviour, set iris.FUTURE.netcdf_promote to True.\n",
      "  warn_deprecated(msg)\n"
     ]
    },
    {
     "data": {
      "text/plain": [
       "[DimCoord(array([-22.48999977, -20.28999901, -18.09000015, -15.88999939,\n",
       "        -13.68999958, -11.48999977,  -9.28999996,  -7.09000015,\n",
       "         -4.88999939,  -2.69000053,  -0.48999977,   1.71000099,\n",
       "          3.90999985,   6.11000061,   8.30999947,  10.51000023,\n",
       "         12.71000099,  14.91000175,  17.1099987 ,  19.30999947,\n",
       "         21.51000023,  23.71000099], dtype=float32), standard_name='grid_latitude', units=Unit('degrees'), var_name='grid_latitude', coord_system=RotatedGeogCS(37.5, 177.5, ellipsoid=GeogCS(6371229.0))),\n",
       " DimCoord(array([ 313.01998901,  315.22000122,  317.41998291,  319.61999512,\n",
       "         321.81997681,  324.01998901,  326.22000122,  328.41998291,\n",
       "         330.61999512,  332.81997681,  335.01998901,  337.22000122,\n",
       "         339.41998291,  341.61999512,  343.81997681,  346.01998901,\n",
       "         348.22000122,  350.41998291,  352.61999512,  354.81997681,\n",
       "         357.01998901,  359.22000122,  361.41998291,  363.61999512,\n",
       "         365.81997681,  368.01998901,  370.22000122,  372.41998291,\n",
       "         374.61999512,  376.81997681,  379.01998901,  381.2199707 ,\n",
       "         383.41998291,  385.61999512,  387.82000732,  390.01998901], dtype=float32), standard_name='grid_longitude', units=Unit('degrees'), var_name='grid_longitude', coord_system=RotatedGeogCS(37.5, 177.5, ellipsoid=GeogCS(6371229.0))),\n",
       " DimCoord(array([ 0.]), standard_name='forecast_period', units=Unit('hours'), var_name='forecast_period'),\n",
       " DimCoord(array([ 319536.]), standard_name='forecast_reference_time', units=Unit('hours since 1970-01-01 00:00:00', calendar='gregorian'), var_name='forecast_reference_time'),\n",
       " DimCoord(array([ 319536.]), standard_name='time', units=Unit('hours since 1970-01-01 00:00:00', calendar='gregorian'), var_name='time')]"
      ]
     },
     "execution_count": 13,
     "metadata": {},
     "output_type": "execute_result"
    }
   ],
   "source": [
    "filename = iris.sample_data_path('rotated_pole.nc')\n",
    "cube = iris.load_cube(filename)\n",
    "cube.coords()"
   ]
  },
  {
   "cell_type": "code",
   "execution_count": 14,
   "metadata": {},
   "outputs": [
    {
     "name": "stdout",
     "output_type": "stream",
     "text": [
      "grid_latitude\n",
      "grid_longitude\n",
      "forecast_period\n",
      "forecast_reference_time\n",
      "time\n"
     ]
    }
   ],
   "source": [
    "for coord in cube.coords():\n",
    "    print(coord.name())"
   ]
  },
  {
   "cell_type": "code",
   "execution_count": 16,
   "metadata": {},
   "outputs": [
    {
     "data": {
      "text/plain": [
       "DimCoord(array([-22.48999977, -20.28999901, -18.09000015, -15.88999939,\n",
       "       -13.68999958, -11.48999977,  -9.28999996,  -7.09000015,\n",
       "        -4.88999939,  -2.69000053,  -0.48999977,   1.71000099,\n",
       "         3.90999985,   6.11000061,   8.30999947,  10.51000023,\n",
       "        12.71000099,  14.91000175,  17.1099987 ,  19.30999947,\n",
       "        21.51000023,  23.71000099], dtype=float32), standard_name='grid_latitude', units=Unit('degrees'), var_name='grid_latitude', coord_system=RotatedGeogCS(37.5, 177.5, ellipsoid=GeogCS(6371229.0)))"
      ]
     },
     "execution_count": 16,
     "metadata": {},
     "output_type": "execute_result"
    }
   ],
   "source": [
    "coord = cube.coord('grid_latitude')\n",
    "coord"
   ]
  },
  {
   "cell_type": "code",
   "execution_count": 18,
   "metadata": {
    "collapsed": true
   },
   "outputs": [],
   "source": [
    "# 実際にcubeを作ってみる\n",
    "from iris.coords import DimCoord\n",
    "from iris.cube import Cube\n",
    "import numpy as np\n",
    "\n",
    "latitude = DimCoord(np.linspace(-90, 90, 4),standard_name='latitude',units='degrees')\n",
    "\n",
    "longitude = DimCoord(np.linspace(45, 360, 8),standard_name='longitude',units='degrees')\n",
    "\n",
    "cube = Cube(np.zeros((4, 8), np.float32),dim_coords_and_dims=[(latitude, 0),(longitude, 1)])"
   ]
  },
  {
   "cell_type": "code",
   "execution_count": 12,
   "metadata": {},
   "outputs": [
    {
     "ename": "AttributeError",
     "evalue": "module 'iris.fileformats' has no attribute 'grib'",
     "output_type": "error",
     "traceback": [
      "\u001b[0;31m---------------------------------------------------------------------------\u001b[0m",
      "\u001b[0;31mAttributeError\u001b[0m                            Traceback (most recent call last)",
      "\u001b[0;32m<ipython-input-12-f97105390be4>\u001b[0m in \u001b[0;36m<module>\u001b[0;34m()\u001b[0m\n\u001b[1;32m      1\u001b[0m \u001b[0mfilename\u001b[0m \u001b[0;34m=\u001b[0m \u001b[0miris\u001b[0m\u001b[0;34m.\u001b[0m\u001b[0msample_data_path\u001b[0m\u001b[0;34m(\u001b[0m\u001b[0;34m'uk_hires.pp'\u001b[0m\u001b[0;34m)\u001b[0m\u001b[0;34m\u001b[0m\u001b[0m\n\u001b[1;32m      2\u001b[0m \u001b[0mcubes\u001b[0m \u001b[0;34m=\u001b[0m \u001b[0miris\u001b[0m\u001b[0;34m.\u001b[0m\u001b[0mload\u001b[0m\u001b[0;34m(\u001b[0m\u001b[0mfilename\u001b[0m\u001b[0;34m)\u001b[0m\u001b[0;34m\u001b[0m\u001b[0m\n\u001b[0;32m----> 3\u001b[0;31m \u001b[0miris\u001b[0m\u001b[0;34m.\u001b[0m\u001b[0mfileformats\u001b[0m\u001b[0;34m.\u001b[0m\u001b[0mgrib\u001b[0m\u001b[0;34m.\u001b[0m\u001b[0msave_grib2\u001b[0m\u001b[0;34m(\u001b[0m\u001b[0mcubes\u001b[0m\u001b[0;34m)\u001b[0m\u001b[0;34m\u001b[0m\u001b[0m\n\u001b[0m",
      "\u001b[0;31mAttributeError\u001b[0m: module 'iris.fileformats' has no attribute 'grib'"
     ]
    }
   ],
   "source": [
    "filename = iris.sample_data_path('uk_hires.pp')\n",
    "cubes = iris.load(filename)\n",
    "iris.fileformats.grib.save_grib2(cubes)"
   ]
  },
  {
   "cell_type": "code",
   "execution_count": null,
   "metadata": {
    "collapsed": true
   },
   "outputs": [],
   "source": []
  }
 ],
 "metadata": {
  "kernelspec": {
   "display_name": "Python 3",
   "language": "python",
   "name": "python3"
  },
  "language_info": {
   "codemirror_mode": {
    "name": "ipython",
    "version": 3
   },
   "file_extension": ".py",
   "mimetype": "text/x-python",
   "name": "python",
   "nbconvert_exporter": "python",
   "pygments_lexer": "ipython3",
   "version": "3.5.0"
  }
 },
 "nbformat": 4,
 "nbformat_minor": 2
}
