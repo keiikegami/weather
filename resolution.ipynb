{
 "cells": [
  {
   "cell_type": "code",
   "execution_count": 1,
   "metadata": {
    "collapsed": false
   },
   "outputs": [
    {
     "name": "stdout",
     "output_type": "stream",
     "text": [
      "0: air_potential_temperature / (K)     (time: 3; model_level_number: 7; grid_latitude: 204; grid_longitude: 187)\n",
      "1: surface_altitude / (m)              (grid_latitude: 204; grid_longitude: 187)\n"
     ]
    }
   ],
   "source": [
    "import iris\n",
    "\n",
    "filename = iris.sample_data_path('uk_hires.pp')\n",
    "cubes = iris.load(filename)\n",
    "print(cubes)"
   ]
  },
  {
   "cell_type": "code",
   "execution_count": 2,
   "metadata": {
    "collapsed": true
   },
   "outputs": [],
   "source": [
    "cube1 = cubes[0]"
   ]
  },
  {
   "cell_type": "code",
   "execution_count": 4,
   "metadata": {
    "collapsed": false
   },
   "outputs": [
    {
     "name": "stdout",
     "output_type": "stream",
     "text": [
      "air_potential_temperature / (K)     (time: 3; model_level_number: 7; grid_latitude: 204; grid_longitude: 187)\n",
      "     Dimension coordinates:\n",
      "          time                           x                      -                 -                    -\n",
      "          model_level_number             -                      x                 -                    -\n",
      "          grid_latitude                  -                      -                 x                    -\n",
      "          grid_longitude                 -                      -                 -                    x\n",
      "     Auxiliary coordinates:\n",
      "          forecast_period                x                      -                 -                    -\n",
      "          level_height                   -                      x                 -                    -\n",
      "          sigma                          -                      x                 -                    -\n",
      "          surface_altitude               -                      -                 x                    x\n",
      "     Derived coordinates:\n",
      "          altitude                       -                      x                 x                    x\n",
      "     Scalar coordinates:\n",
      "          forecast_reference_time: 2009-11-19 04:00:00\n",
      "     Attributes:\n",
      "          STASH: m01s00i004\n",
      "          source: Data from Met Office Unified Model\n",
      "          um_version: 7.3\n"
     ]
    }
   ],
   "source": [
    "print(cube1)"
   ]
  },
  {
   "cell_type": "code",
   "execution_count": 6,
   "metadata": {
    "collapsed": false
   },
   "outputs": [
    {
     "name": "stdout",
     "output_type": "stream",
     "text": [
      "air_potential_temperature / (K)     (model_level_number: 7; grid_latitude: 204; grid_longitude: 187)\n",
      "     Dimension coordinates:\n",
      "          model_level_number                           x                 -                    -\n",
      "          grid_latitude                                -                 x                    -\n",
      "          grid_longitude                               -                 -                    x\n",
      "     Auxiliary coordinates:\n",
      "          level_height                                 x                 -                    -\n",
      "          sigma                                        x                 -                    -\n",
      "          surface_altitude                             -                 x                    x\n",
      "     Derived coordinates:\n",
      "          altitude                                     x                 x                    x\n",
      "     Scalar coordinates:\n",
      "          forecast_period: 6.0 hours\n",
      "          forecast_reference_time: 2009-11-19 04:00:00\n",
      "          time: 2009-11-19 10:00:00\n",
      "     Attributes:\n",
      "          STASH: m01s00i004\n",
      "          source: Data from Met Office Unified Model\n",
      "          um_version: 7.3\n"
     ]
    }
   ],
   "source": [
    "# time dimensionを固定\n",
    "print(cube1[0])"
   ]
  },
  {
   "cell_type": "code",
   "execution_count": 7,
   "metadata": {
    "collapsed": false
   },
   "outputs": [
    {
     "name": "stdout",
     "output_type": "stream",
     "text": [
      "air_potential_temperature / (K)     (grid_latitude: 204; grid_longitude: 187)\n",
      "     Dimension coordinates:\n",
      "          grid_latitude                           x                    -\n",
      "          grid_longitude                          -                    x\n",
      "     Auxiliary coordinates:\n",
      "          surface_altitude                        x                    x\n",
      "     Derived coordinates:\n",
      "          altitude                                x                    x\n",
      "     Scalar coordinates:\n",
      "          forecast_period: 6.0 hours\n",
      "          forecast_reference_time: 2009-11-19 04:00:00\n",
      "          level_height: 5.0 m, bound=(0.0, 13.3333) m\n",
      "          model_level_number: 1\n",
      "          sigma: 0.999424, bound=(1.0, 0.998464)\n",
      "          time: 2009-11-19 10:00:00\n",
      "     Attributes:\n",
      "          STASH: m01s00i004\n",
      "          source: Data from Met Office Unified Model\n",
      "          um_version: 7.3\n"
     ]
    }
   ],
   "source": [
    "# time dimensionと高度を固定\n",
    "print(cube1[0, 0])"
   ]
  },
  {
   "cell_type": "markdown",
   "metadata": {},
   "source": [
    "resolutionなので、timeは荒くしない。荒くするのは3次元の空間。\n",
    "\n",
    "でも高度は一般にそこまでポイントがないので、とりあえず荒くしなくてよくって、二次元平面を荒くすることを考える。\n",
    "\n",
    "引数には落とす線の割合を$[0, 1]$で指定"
   ]
  },
  {
   "cell_type": "code",
   "execution_count": 8,
   "metadata": {
    "collapsed": true
   },
   "outputs": [],
   "source": [
    "drop_rate = 0.1"
   ]
  },
  {
   "cell_type": "code",
   "execution_count": 53,
   "metadata": {
    "collapsed": false
   },
   "outputs": [
    {
     "data": {
      "text/plain": [
       "'time'"
      ]
     },
     "execution_count": 53,
     "metadata": {},
     "output_type": "execute_result"
    }
   ],
   "source": [
    "cube1.coords()[0].name()"
   ]
  },
  {
   "cell_type": "code",
   "execution_count": 15,
   "metadata": {
    "collapsed": true
   },
   "outputs": [],
   "source": [
    "lat_num = len(cube1.coord(\"grid_latitude\").points)\n",
    "lon_num = len(cube1.coord(\"grid_longitude\").points)"
   ]
  },
  {
   "cell_type": "code",
   "execution_count": 16,
   "metadata": {
    "collapsed": false
   },
   "outputs": [
    {
     "data": {
      "text/plain": [
       "204"
      ]
     },
     "execution_count": 16,
     "metadata": {},
     "output_type": "execute_result"
    }
   ],
   "source": [
    "lat_num"
   ]
  },
  {
   "cell_type": "code",
   "execution_count": 19,
   "metadata": {
    "collapsed": true
   },
   "outputs": [],
   "source": [
    "import math"
   ]
  },
  {
   "cell_type": "code",
   "execution_count": 35,
   "metadata": {
    "collapsed": false
   },
   "outputs": [
    {
     "data": {
      "text/plain": [
       "9"
      ]
     },
     "execution_count": 35,
     "metadata": {},
     "output_type": "execute_result"
    }
   ],
   "source": [
    "span = math.ceil((lat_num - math.ceil((lat_num*drop_rate))) /(math.ceil((lat_num*drop_rate)) + 1))"
   ]
  },
  {
   "cell_type": "code",
   "execution_count": 36,
   "metadata": {
    "collapsed": false
   },
   "outputs": [
    {
     "data": {
      "text/plain": [
       "20"
      ]
     },
     "execution_count": 36,
     "metadata": {},
     "output_type": "execute_result"
    }
   ],
   "source": [
    "last = math.ceil((lat_num - span)/(span+1))\n",
    "last"
   ]
  },
  {
   "cell_type": "code",
   "execution_count": 38,
   "metadata": {
    "collapsed": false
   },
   "outputs": [
    {
     "data": {
      "text/plain": [
       "199"
      ]
     },
     "execution_count": 38,
     "metadata": {},
     "output_type": "execute_result"
    }
   ],
   "source": [
    "last_ind = span + (last - 1)*(span + 1)\n",
    "last_ind"
   ]
  },
  {
   "cell_type": "code",
   "execution_count": 48,
   "metadata": {
    "collapsed": false
   },
   "outputs": [],
   "source": [
    "# 抜く奴はこれ\n",
    "drop_ind = np.linspace(span, last_ind, 20)"
   ]
  },
  {
   "cell_type": "code",
   "execution_count": 51,
   "metadata": {
    "collapsed": true
   },
   "outputs": [
    {
     "data": {
      "text/plain": [
       "{0,\n",
       " 1,\n",
       " 2,\n",
       " 3,\n",
       " 4,\n",
       " 5,\n",
       " 6,\n",
       " 7,\n",
       " 8,\n",
       " 10,\n",
       " 11,\n",
       " 12,\n",
       " 13,\n",
       " 14,\n",
       " 15,\n",
       " 16,\n",
       " 17,\n",
       " 18,\n",
       " 20,\n",
       " 21,\n",
       " 22,\n",
       " 23,\n",
       " 24,\n",
       " 25,\n",
       " 26,\n",
       " 27,\n",
       " 28,\n",
       " 30,\n",
       " 31,\n",
       " 32,\n",
       " 33,\n",
       " 34,\n",
       " 35,\n",
       " 36,\n",
       " 37,\n",
       " 38,\n",
       " 40,\n",
       " 41,\n",
       " 42,\n",
       " 43,\n",
       " 44,\n",
       " 45,\n",
       " 46,\n",
       " 47,\n",
       " 48,\n",
       " 50,\n",
       " 51,\n",
       " 52,\n",
       " 53,\n",
       " 54,\n",
       " 55,\n",
       " 56,\n",
       " 57,\n",
       " 58,\n",
       " 60,\n",
       " 61,\n",
       " 62,\n",
       " 63,\n",
       " 64,\n",
       " 65,\n",
       " 66,\n",
       " 67,\n",
       " 68,\n",
       " 70,\n",
       " 71,\n",
       " 72,\n",
       " 73,\n",
       " 74,\n",
       " 75,\n",
       " 76,\n",
       " 77,\n",
       " 78,\n",
       " 80,\n",
       " 81,\n",
       " 82,\n",
       " 83,\n",
       " 84,\n",
       " 85,\n",
       " 86,\n",
       " 87,\n",
       " 88,\n",
       " 90,\n",
       " 91,\n",
       " 92,\n",
       " 93,\n",
       " 94,\n",
       " 95,\n",
       " 96,\n",
       " 97,\n",
       " 98,\n",
       " 100,\n",
       " 101,\n",
       " 102,\n",
       " 103,\n",
       " 104,\n",
       " 105,\n",
       " 106,\n",
       " 107,\n",
       " 108,\n",
       " 110,\n",
       " 111,\n",
       " 112,\n",
       " 113,\n",
       " 114,\n",
       " 115,\n",
       " 116,\n",
       " 117,\n",
       " 118,\n",
       " 120,\n",
       " 121,\n",
       " 122,\n",
       " 123,\n",
       " 124,\n",
       " 125,\n",
       " 126,\n",
       " 127,\n",
       " 128,\n",
       " 130,\n",
       " 131,\n",
       " 132,\n",
       " 133,\n",
       " 134,\n",
       " 135,\n",
       " 136,\n",
       " 137,\n",
       " 138,\n",
       " 140,\n",
       " 141,\n",
       " 142,\n",
       " 143,\n",
       " 144,\n",
       " 145,\n",
       " 146,\n",
       " 147,\n",
       " 148,\n",
       " 150,\n",
       " 151,\n",
       " 152,\n",
       " 153,\n",
       " 154,\n",
       " 155,\n",
       " 156,\n",
       " 157,\n",
       " 158,\n",
       " 160,\n",
       " 161,\n",
       " 162,\n",
       " 163,\n",
       " 164,\n",
       " 165,\n",
       " 166,\n",
       " 167,\n",
       " 168,\n",
       " 170,\n",
       " 171,\n",
       " 172,\n",
       " 173,\n",
       " 174,\n",
       " 175,\n",
       " 176,\n",
       " 177,\n",
       " 178,\n",
       " 180,\n",
       " 181,\n",
       " 182,\n",
       " 183,\n",
       " 184,\n",
       " 185,\n",
       " 186,\n",
       " 187,\n",
       " 188,\n",
       " 190,\n",
       " 191,\n",
       " 192,\n",
       " 193,\n",
       " 194,\n",
       " 195,\n",
       " 196,\n",
       " 197,\n",
       " 198,\n",
       " 200,\n",
       " 201,\n",
       " 202,\n",
       " 203}"
      ]
     },
     "execution_count": 51,
     "metadata": {},
     "output_type": "execute_result"
    }
   ],
   "source": [
    "# 残るのはこれ\n",
    "remain_ind = set(range(lat_num)).difference(set(drop_ind))"
   ]
  },
  {
   "cell_type": "code",
   "execution_count": 1,
   "metadata": {
    "collapsed": false
   },
   "outputs": [],
   "source": [
    "# extractとかいうメソッドがあったのでそっちを使う\n",
    "# 緯度経度の名前を\"grid_latitude\"と\"grid_longitude\"に変更してから使うこと。\n",
    "import math\n",
    "import numpy as np\n",
    "from iris.coords import DimCoord\n",
    "from iris.cube import Cube\n",
    "\n",
    "def lat_id(cube, drop_rate):\n",
    "    lat_num = len(cube.coord(\"grid_latitude\").points)\n",
    "    span = math.ceil((lat_num - math.ceil((lat_num*drop_rate))) /(math.ceil((lat_num*drop_rate)) + 1))\n",
    "    last = math.ceil((lat_num - span)/(span+1))\n",
    "    last_ind = span + (last - 1)*(span + 1)\n",
    "    \n",
    "    drop_ind = np.linspace(span, last_ind, last)\n",
    "    return list(set(range(lat_num)).difference(set(drop_ind)))\n",
    "\n",
    "def lon_id( cube, drop_rate):\n",
    "    lon_num = len(cube.coord(\"grid_longitude\").points)\n",
    "    span = math.ceil((lon_num - math.ceil((lon_num*drop_rate))) /(math.ceil((lon_num*drop_rate)) + 1))\n",
    "    last = math.ceil((lon_num - span)/(span+1))\n",
    "    last_ind = span + (last - 1)*(span + 1)\n",
    "    \n",
    "    drop_ind = np.linspace(span, last_ind, last)\n",
    "    return list(set(range(lon_num)).difference(set(drop_ind)))"
   ]
  },
  {
   "cell_type": "code",
   "execution_count": 3,
   "metadata": {
    "collapsed": false
   },
   "outputs": [],
   "source": [
    "import iris\n",
    "filename = iris.sample_data_path('uk_hires.pp')\n",
    "cubes = iris.load(filename)\n",
    "cube1 = cubes[0][0,0]"
   ]
  },
  {
   "cell_type": "code",
   "execution_count": 5,
   "metadata": {
    "collapsed": false
   },
   "outputs": [],
   "source": [
    "lat = iris.Constraint(grid_latitude = cube1.coord(\"grid_latitude\").points[lat_id(cube1, 0.1)])"
   ]
  },
  {
   "cell_type": "code",
   "execution_count": 6,
   "metadata": {
    "collapsed": true
   },
   "outputs": [],
   "source": [
    "lon = iris.Constraint(grid_longitude = cube1.coord(\"grid_longitude\").points[lon_id(cube1, 0.1)])"
   ]
  },
  {
   "cell_type": "code",
   "execution_count": 8,
   "metadata": {
    "collapsed": false
   },
   "outputs": [
    {
     "name": "stdout",
     "output_type": "stream",
     "text": [
      "air_potential_temperature / (K)     (grid_latitude: 184; grid_longitude: 169)\n",
      "     Dimension coordinates:\n",
      "          grid_latitude                           x                    -\n",
      "          grid_longitude                          -                    x\n",
      "     Auxiliary coordinates:\n",
      "          surface_altitude                        x                    x\n",
      "     Derived coordinates:\n",
      "          altitude                                x                    x\n",
      "     Scalar coordinates:\n",
      "          forecast_period: 6.0 hours\n",
      "          forecast_reference_time: 2009-11-19 04:00:00\n",
      "          level_height: 5.0 m, bound=(0.0, 13.3333) m\n",
      "          model_level_number: 1\n",
      "          sigma: 0.999424, bound=(1.0, 0.998464)\n",
      "          time: 2009-11-19 10:00:00\n",
      "     Attributes:\n",
      "          STASH: m01s00i004\n",
      "          source: Data from Met Office Unified Model\n",
      "          um_version: 7.3\n"
     ]
    }
   ],
   "source": [
    "print(cube1.extract(lat & lon))"
   ]
  },
  {
   "cell_type": "markdown",
   "metadata": {},
   "source": [
    "下のようなことをしなくてもcube.extract(Constraint)メソッドでできるわ"
   ]
  },
  {
   "cell_type": "code",
   "execution_count": null,
   "metadata": {
    "collapsed": true
   },
   "outputs": [],
   "source": [
    "# cubeは二次元のみ扱うことにする\n",
    "def change_resolution(cube, drop_rate):\n",
    "    lat_remain = lat_id(cube, drop_rate)\n",
    "    lon_remain = lon_id(cube, drop_rate)\n",
    "    \n",
    "    # cubeに対してはsliceしかできない（np.ix_()で要素にアクセスすることはできない）ので、numpy arrayまで落として要素だけ取ってくる\n",
    "    # 他のcoordinatesはそのまま新しいcubeに入れ込む\n",
    "    extracted_data = cube.data[np.ix_(lat_remain, lon_remain)]\n",
    "    \n",
    "    # 新しいcubeようにlatとlonをクラスに入れる\n",
    "    original_lat = cube.coord('grid_latitude').points\n",
    "    original_lon = cube.coord('grid_longitude').points\n",
    "    latitude = DimCoord(original_lat[lat_remain], standard_name='grid_latitude', units='degrees')\n",
    "    longitude = DimCoord(original_lon[lon_remain], standard_name='grid_longitude', units='degrees')\n",
    "    \n",
    "    # lat, lon以外のcoordinateはそのまま新しいcubeに引き継ぐ\n",
    "    # 上で作った新しいcubeに足していく\n",
    "    # のはやめよう。cubeの次元を追加するのは難しいので一気に作る。\n",
    "    dimcoords = [coord for coord in cube.coords() if coord.name() != \"grid_latitude\" and coord.name() != \"grid_longitude\" and str(type(coord)) == \"<class 'iris.coords.DimCoord'>\"]\n",
    "    auxcoords = [coord for coord in cube.coords() if coord.name() != \"grid_latitude\" and coord.name() != \"grid_longitude\" and str(type(coord)) == \"<class 'iris.coords.AuxCoord'>\"]\n",
    "\n",
    "    dims = [(i, n) for i, n in zip(dimcoords, range(2, len(dimcoords)))]\n",
    "    lat_lon = [(latitude, 0),(longitude, 1)]\n",
    "    dim_coords_list = lat_lon + dims\n",
    "    aux_coords_list = [(i, n) for i, n in zip(auxcoords, range(len(auxcoords)))]\n",
    "    \n",
    "    # これだと次元を持つcoordinateの値がextracted_dataの中に含まれてないのでcube二できない\n",
    "    # 入れるデータにそれぞれのcoordsが持つ値を入れてあげてdataをcubeに渡す。\n",
    "    return Cube(extracted_data, dim_coords_and_dims=dim_coords_list, aux_coords_and_dims = aux_coords_list)"
   ]
  }
 ],
 "metadata": {
  "kernelspec": {
   "display_name": "Python 3",
   "language": "python",
   "name": "python3"
  },
  "language_info": {
   "codemirror_mode": {
    "name": "ipython",
    "version": 3
   },
   "file_extension": ".py",
   "mimetype": "text/x-python",
   "name": "python",
   "nbconvert_exporter": "python",
   "pygments_lexer": "ipython3",
   "version": "3.5.1"
  }
 },
 "nbformat": 4,
 "nbformat_minor": 0
}
